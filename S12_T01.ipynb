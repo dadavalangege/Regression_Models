{
 "cells": [
  {
   "cell_type": "markdown",
   "id": "e915dd8f",
   "metadata": {},
   "source": [
    "- Exercici 5\n",
    "\n",
    "Realitza algun procés d’enginyeria de variables per millorar-ne la predicció"
   ]
  },
  {
   "cell_type": "code",
   "execution_count": 71,
   "id": "6d9e80ef",
   "metadata": {},
   "outputs": [],
   "source": [
    "import pandas as pd\n",
    "import numpy as np\n",
    "import seaborn as sns\n",
    "import matplotlib.pyplot as plt\n",
    "from sklearn.preprocessing import StandardScaler\n",
    "from sklearn.model_selection import train_test_split\n",
    "import statsmodels.api as sm\n",
    "from sklearn.metrics import mean_squared_error\n",
    "from sklearn.ensemble import RandomForestRegressor\n",
    "from sklearn.metrics import r2_score\n",
    "from sklearn.neural_network import MLPRegressor\n",
    "from sklearn.model_selection import GridSearchCV\n",
    "#import warnings\n",
    "#warnings.filterwarnings('ignore')"
   ]
  },
  {
   "cell_type": "code",
   "execution_count": 2,
   "id": "2e20c2f9",
   "metadata": {
    "scrolled": true
   },
   "outputs": [
    {
     "data": {
      "text/html": [
       "<div>\n",
       "<style scoped>\n",
       "    .dataframe tbody tr th:only-of-type {\n",
       "        vertical-align: middle;\n",
       "    }\n",
       "\n",
       "    .dataframe tbody tr th {\n",
       "        vertical-align: top;\n",
       "    }\n",
       "\n",
       "    .dataframe thead th {\n",
       "        text-align: right;\n",
       "    }\n",
       "</style>\n",
       "<table border=\"1\" class=\"dataframe\">\n",
       "  <thead>\n",
       "    <tr style=\"text-align: right;\">\n",
       "      <th></th>\n",
       "      <th>Unnamed: 0</th>\n",
       "      <th>Year</th>\n",
       "      <th>Month</th>\n",
       "      <th>DayofMonth</th>\n",
       "      <th>DayOfWeek</th>\n",
       "      <th>DepTime</th>\n",
       "      <th>CRSDepTime</th>\n",
       "      <th>ArrTime</th>\n",
       "      <th>CRSArrTime</th>\n",
       "      <th>UniqueCarrier</th>\n",
       "      <th>...</th>\n",
       "      <th>TaxiIn</th>\n",
       "      <th>TaxiOut</th>\n",
       "      <th>Cancelled</th>\n",
       "      <th>CancellationCode</th>\n",
       "      <th>Diverted</th>\n",
       "      <th>CarrierDelay</th>\n",
       "      <th>WeatherDelay</th>\n",
       "      <th>NASDelay</th>\n",
       "      <th>SecurityDelay</th>\n",
       "      <th>LateAircraftDelay</th>\n",
       "    </tr>\n",
       "  </thead>\n",
       "  <tbody>\n",
       "    <tr>\n",
       "      <th>0</th>\n",
       "      <td>0</td>\n",
       "      <td>2008</td>\n",
       "      <td>1</td>\n",
       "      <td>3</td>\n",
       "      <td>4</td>\n",
       "      <td>2003.0</td>\n",
       "      <td>1955</td>\n",
       "      <td>2211.0</td>\n",
       "      <td>2225</td>\n",
       "      <td>WN</td>\n",
       "      <td>...</td>\n",
       "      <td>4.0</td>\n",
       "      <td>8.0</td>\n",
       "      <td>0</td>\n",
       "      <td>N</td>\n",
       "      <td>0</td>\n",
       "      <td>NaN</td>\n",
       "      <td>NaN</td>\n",
       "      <td>NaN</td>\n",
       "      <td>NaN</td>\n",
       "      <td>NaN</td>\n",
       "    </tr>\n",
       "    <tr>\n",
       "      <th>1</th>\n",
       "      <td>1</td>\n",
       "      <td>2008</td>\n",
       "      <td>1</td>\n",
       "      <td>3</td>\n",
       "      <td>4</td>\n",
       "      <td>754.0</td>\n",
       "      <td>735</td>\n",
       "      <td>1002.0</td>\n",
       "      <td>1000</td>\n",
       "      <td>WN</td>\n",
       "      <td>...</td>\n",
       "      <td>5.0</td>\n",
       "      <td>10.0</td>\n",
       "      <td>0</td>\n",
       "      <td>N</td>\n",
       "      <td>0</td>\n",
       "      <td>NaN</td>\n",
       "      <td>NaN</td>\n",
       "      <td>NaN</td>\n",
       "      <td>NaN</td>\n",
       "      <td>NaN</td>\n",
       "    </tr>\n",
       "    <tr>\n",
       "      <th>2</th>\n",
       "      <td>2</td>\n",
       "      <td>2008</td>\n",
       "      <td>1</td>\n",
       "      <td>3</td>\n",
       "      <td>4</td>\n",
       "      <td>628.0</td>\n",
       "      <td>620</td>\n",
       "      <td>804.0</td>\n",
       "      <td>750</td>\n",
       "      <td>WN</td>\n",
       "      <td>...</td>\n",
       "      <td>3.0</td>\n",
       "      <td>17.0</td>\n",
       "      <td>0</td>\n",
       "      <td>N</td>\n",
       "      <td>0</td>\n",
       "      <td>NaN</td>\n",
       "      <td>NaN</td>\n",
       "      <td>NaN</td>\n",
       "      <td>NaN</td>\n",
       "      <td>NaN</td>\n",
       "    </tr>\n",
       "    <tr>\n",
       "      <th>3</th>\n",
       "      <td>4</td>\n",
       "      <td>2008</td>\n",
       "      <td>1</td>\n",
       "      <td>3</td>\n",
       "      <td>4</td>\n",
       "      <td>1829.0</td>\n",
       "      <td>1755</td>\n",
       "      <td>1959.0</td>\n",
       "      <td>1925</td>\n",
       "      <td>WN</td>\n",
       "      <td>...</td>\n",
       "      <td>3.0</td>\n",
       "      <td>10.0</td>\n",
       "      <td>0</td>\n",
       "      <td>N</td>\n",
       "      <td>0</td>\n",
       "      <td>2.0</td>\n",
       "      <td>0.0</td>\n",
       "      <td>0.0</td>\n",
       "      <td>0.0</td>\n",
       "      <td>32.0</td>\n",
       "    </tr>\n",
       "    <tr>\n",
       "      <th>4</th>\n",
       "      <td>5</td>\n",
       "      <td>2008</td>\n",
       "      <td>1</td>\n",
       "      <td>3</td>\n",
       "      <td>4</td>\n",
       "      <td>1940.0</td>\n",
       "      <td>1915</td>\n",
       "      <td>2121.0</td>\n",
       "      <td>2110</td>\n",
       "      <td>WN</td>\n",
       "      <td>...</td>\n",
       "      <td>4.0</td>\n",
       "      <td>10.0</td>\n",
       "      <td>0</td>\n",
       "      <td>N</td>\n",
       "      <td>0</td>\n",
       "      <td>NaN</td>\n",
       "      <td>NaN</td>\n",
       "      <td>NaN</td>\n",
       "      <td>NaN</td>\n",
       "      <td>NaN</td>\n",
       "    </tr>\n",
       "    <tr>\n",
       "      <th>...</th>\n",
       "      <td>...</td>\n",
       "      <td>...</td>\n",
       "      <td>...</td>\n",
       "      <td>...</td>\n",
       "      <td>...</td>\n",
       "      <td>...</td>\n",
       "      <td>...</td>\n",
       "      <td>...</td>\n",
       "      <td>...</td>\n",
       "      <td>...</td>\n",
       "      <td>...</td>\n",
       "      <td>...</td>\n",
       "      <td>...</td>\n",
       "      <td>...</td>\n",
       "      <td>...</td>\n",
       "      <td>...</td>\n",
       "      <td>...</td>\n",
       "      <td>...</td>\n",
       "      <td>...</td>\n",
       "      <td>...</td>\n",
       "      <td>...</td>\n",
       "    </tr>\n",
       "    <tr>\n",
       "      <th>1936753</th>\n",
       "      <td>7009710</td>\n",
       "      <td>2008</td>\n",
       "      <td>12</td>\n",
       "      <td>13</td>\n",
       "      <td>6</td>\n",
       "      <td>1250.0</td>\n",
       "      <td>1220</td>\n",
       "      <td>1617.0</td>\n",
       "      <td>1552</td>\n",
       "      <td>DL</td>\n",
       "      <td>...</td>\n",
       "      <td>9.0</td>\n",
       "      <td>18.0</td>\n",
       "      <td>0</td>\n",
       "      <td>N</td>\n",
       "      <td>0</td>\n",
       "      <td>3.0</td>\n",
       "      <td>0.0</td>\n",
       "      <td>0.0</td>\n",
       "      <td>0.0</td>\n",
       "      <td>22.0</td>\n",
       "    </tr>\n",
       "    <tr>\n",
       "      <th>1936754</th>\n",
       "      <td>7009717</td>\n",
       "      <td>2008</td>\n",
       "      <td>12</td>\n",
       "      <td>13</td>\n",
       "      <td>6</td>\n",
       "      <td>657.0</td>\n",
       "      <td>600</td>\n",
       "      <td>904.0</td>\n",
       "      <td>749</td>\n",
       "      <td>DL</td>\n",
       "      <td>...</td>\n",
       "      <td>15.0</td>\n",
       "      <td>34.0</td>\n",
       "      <td>0</td>\n",
       "      <td>N</td>\n",
       "      <td>0</td>\n",
       "      <td>0.0</td>\n",
       "      <td>57.0</td>\n",
       "      <td>18.0</td>\n",
       "      <td>0.0</td>\n",
       "      <td>0.0</td>\n",
       "    </tr>\n",
       "    <tr>\n",
       "      <th>1936755</th>\n",
       "      <td>7009718</td>\n",
       "      <td>2008</td>\n",
       "      <td>12</td>\n",
       "      <td>13</td>\n",
       "      <td>6</td>\n",
       "      <td>1007.0</td>\n",
       "      <td>847</td>\n",
       "      <td>1149.0</td>\n",
       "      <td>1010</td>\n",
       "      <td>DL</td>\n",
       "      <td>...</td>\n",
       "      <td>8.0</td>\n",
       "      <td>32.0</td>\n",
       "      <td>0</td>\n",
       "      <td>N</td>\n",
       "      <td>0</td>\n",
       "      <td>1.0</td>\n",
       "      <td>0.0</td>\n",
       "      <td>19.0</td>\n",
       "      <td>0.0</td>\n",
       "      <td>79.0</td>\n",
       "    </tr>\n",
       "    <tr>\n",
       "      <th>1936756</th>\n",
       "      <td>7009726</td>\n",
       "      <td>2008</td>\n",
       "      <td>12</td>\n",
       "      <td>13</td>\n",
       "      <td>6</td>\n",
       "      <td>1251.0</td>\n",
       "      <td>1240</td>\n",
       "      <td>1446.0</td>\n",
       "      <td>1437</td>\n",
       "      <td>DL</td>\n",
       "      <td>...</td>\n",
       "      <td>13.0</td>\n",
       "      <td>13.0</td>\n",
       "      <td>0</td>\n",
       "      <td>N</td>\n",
       "      <td>0</td>\n",
       "      <td>NaN</td>\n",
       "      <td>NaN</td>\n",
       "      <td>NaN</td>\n",
       "      <td>NaN</td>\n",
       "      <td>NaN</td>\n",
       "    </tr>\n",
       "    <tr>\n",
       "      <th>1936757</th>\n",
       "      <td>7009727</td>\n",
       "      <td>2008</td>\n",
       "      <td>12</td>\n",
       "      <td>13</td>\n",
       "      <td>6</td>\n",
       "      <td>1110.0</td>\n",
       "      <td>1103</td>\n",
       "      <td>1413.0</td>\n",
       "      <td>1418</td>\n",
       "      <td>DL</td>\n",
       "      <td>...</td>\n",
       "      <td>8.0</td>\n",
       "      <td>11.0</td>\n",
       "      <td>0</td>\n",
       "      <td>N</td>\n",
       "      <td>0</td>\n",
       "      <td>NaN</td>\n",
       "      <td>NaN</td>\n",
       "      <td>NaN</td>\n",
       "      <td>NaN</td>\n",
       "      <td>NaN</td>\n",
       "    </tr>\n",
       "  </tbody>\n",
       "</table>\n",
       "<p>1936758 rows × 30 columns</p>\n",
       "</div>"
      ],
      "text/plain": [
       "         Unnamed: 0  Year  Month  DayofMonth  DayOfWeek  DepTime  CRSDepTime  \\\n",
       "0                 0  2008      1           3          4   2003.0        1955   \n",
       "1                 1  2008      1           3          4    754.0         735   \n",
       "2                 2  2008      1           3          4    628.0         620   \n",
       "3                 4  2008      1           3          4   1829.0        1755   \n",
       "4                 5  2008      1           3          4   1940.0        1915   \n",
       "...             ...   ...    ...         ...        ...      ...         ...   \n",
       "1936753     7009710  2008     12          13          6   1250.0        1220   \n",
       "1936754     7009717  2008     12          13          6    657.0         600   \n",
       "1936755     7009718  2008     12          13          6   1007.0         847   \n",
       "1936756     7009726  2008     12          13          6   1251.0        1240   \n",
       "1936757     7009727  2008     12          13          6   1110.0        1103   \n",
       "\n",
       "         ArrTime  CRSArrTime UniqueCarrier  ...  TaxiIn TaxiOut  Cancelled  \\\n",
       "0         2211.0        2225            WN  ...     4.0     8.0          0   \n",
       "1         1002.0        1000            WN  ...     5.0    10.0          0   \n",
       "2          804.0         750            WN  ...     3.0    17.0          0   \n",
       "3         1959.0        1925            WN  ...     3.0    10.0          0   \n",
       "4         2121.0        2110            WN  ...     4.0    10.0          0   \n",
       "...          ...         ...           ...  ...     ...     ...        ...   \n",
       "1936753   1617.0        1552            DL  ...     9.0    18.0          0   \n",
       "1936754    904.0         749            DL  ...    15.0    34.0          0   \n",
       "1936755   1149.0        1010            DL  ...     8.0    32.0          0   \n",
       "1936756   1446.0        1437            DL  ...    13.0    13.0          0   \n",
       "1936757   1413.0        1418            DL  ...     8.0    11.0          0   \n",
       "\n",
       "         CancellationCode  Diverted  CarrierDelay  WeatherDelay NASDelay  \\\n",
       "0                       N         0           NaN           NaN      NaN   \n",
       "1                       N         0           NaN           NaN      NaN   \n",
       "2                       N         0           NaN           NaN      NaN   \n",
       "3                       N         0           2.0           0.0      0.0   \n",
       "4                       N         0           NaN           NaN      NaN   \n",
       "...                   ...       ...           ...           ...      ...   \n",
       "1936753                 N         0           3.0           0.0      0.0   \n",
       "1936754                 N         0           0.0          57.0     18.0   \n",
       "1936755                 N         0           1.0           0.0     19.0   \n",
       "1936756                 N         0           NaN           NaN      NaN   \n",
       "1936757                 N         0           NaN           NaN      NaN   \n",
       "\n",
       "        SecurityDelay  LateAircraftDelay  \n",
       "0                 NaN                NaN  \n",
       "1                 NaN                NaN  \n",
       "2                 NaN                NaN  \n",
       "3                 0.0               32.0  \n",
       "4                 NaN                NaN  \n",
       "...               ...                ...  \n",
       "1936753           0.0               22.0  \n",
       "1936754           0.0                0.0  \n",
       "1936755           0.0               79.0  \n",
       "1936756           NaN                NaN  \n",
       "1936757           NaN                NaN  \n",
       "\n",
       "[1936758 rows x 30 columns]"
      ]
     },
     "execution_count": 2,
     "metadata": {},
     "output_type": "execute_result"
    }
   ],
   "source": [
    "#delayed_flights = pd.read_csv('C:\\\\Users\\\\elgab\\\\Desktop\\\\NUBE MEGA\\\\PROGRAMACIÓN\\\\2020-2021\\\\IT_Academy\\\\itinerario DS\\\\bases_datos\\\\DelayedFlights.csv', sep=',')\n",
    "delayed_flights = pd.read_csv('C:\\\\Users\\\\formacio\\\\Gabriel De Santis\\\\Datasets\\\\DelayedFlights.csv', sep=',')\n",
    "\n",
    "delayed_flights"
   ]
  },
  {
   "cell_type": "code",
   "execution_count": 3,
   "id": "32c405ec",
   "metadata": {},
   "outputs": [],
   "source": [
    "delayed_flights.drop(columns='Unnamed: 0', inplace=True)"
   ]
  },
  {
   "cell_type": "markdown",
   "id": "2a3449c3",
   "metadata": {},
   "source": [
    "Abans que res, eliminarem la variable Year ja que tots els vols del dataset son del 2008 i ens sembla redundant."
   ]
  },
  {
   "cell_type": "code",
   "execution_count": 4,
   "id": "1ef3830f",
   "metadata": {},
   "outputs": [],
   "source": [
    "delayed_flights.drop(columns='Year', inplace=True)"
   ]
  },
  {
   "cell_type": "markdown",
   "id": "5e97ca9d",
   "metadata": {},
   "source": [
    "A continuació, farem neteja de valors nuls."
   ]
  },
  {
   "cell_type": "markdown",
   "id": "cc148af0",
   "metadata": {},
   "source": [
    "Observem que els vols cancelats produeixen una gran quantitat de null values a diferents variables. Pensem que lo millor serà eliminar les files, ja que el nombre de vols cancelats és petit."
   ]
  },
  {
   "cell_type": "code",
   "execution_count": 5,
   "id": "3502dfd6",
   "metadata": {
    "scrolled": false
   },
   "outputs": [
    {
     "data": {
      "text/plain": [
       "Month                 0.000000\n",
       "DayofMonth            0.000000\n",
       "DayOfWeek             0.000000\n",
       "DepTime               0.000000\n",
       "CRSDepTime            0.000000\n",
       "ArrTime               0.367108\n",
       "CRSArrTime            0.000000\n",
       "UniqueCarrier         0.000000\n",
       "FlightNum             0.000000\n",
       "TailNum               0.000258\n",
       "ActualElapsedTime     0.433043\n",
       "CRSElapsedTime        0.010223\n",
       "AirTime               0.433043\n",
       "ArrDelay              0.433043\n",
       "DepDelay              0.000000\n",
       "Origin                0.000000\n",
       "Dest                  0.000000\n",
       "Distance              0.000000\n",
       "TaxiIn                0.367108\n",
       "TaxiOut               0.023493\n",
       "Cancelled             0.000000\n",
       "CancellationCode      0.000000\n",
       "Diverted              0.000000\n",
       "CarrierDelay         35.588855\n",
       "WeatherDelay         35.588855\n",
       "NASDelay             35.588855\n",
       "SecurityDelay        35.588855\n",
       "LateAircraftDelay    35.588855\n",
       "dtype: float64"
      ]
     },
     "execution_count": 5,
     "metadata": {},
     "output_type": "execute_result"
    }
   ],
   "source": [
    "delayed_flights.isna().sum() / len(delayed_flights) * 100"
   ]
  },
  {
   "cell_type": "code",
   "execution_count": 6,
   "id": "8a9ccf89",
   "metadata": {
    "scrolled": true
   },
   "outputs": [
    {
     "data": {
      "text/plain": [
       "Month                 0.000000\n",
       "DayofMonth            0.000000\n",
       "DayOfWeek             0.000000\n",
       "DepTime               0.000000\n",
       "CRSDepTime            0.000000\n",
       "ArrTime               0.367108\n",
       "CRSArrTime            0.000000\n",
       "UniqueCarrier         0.000000\n",
       "FlightNum             0.000000\n",
       "TailNum               0.000258\n",
       "ActualElapsedTime     0.433043\n",
       "CRSElapsedTime        0.010223\n",
       "AirTime               0.433043\n",
       "ArrDelay              0.433043\n",
       "DepDelay              0.000000\n",
       "Origin                0.000000\n",
       "Dest                  0.000000\n",
       "Distance              0.000000\n",
       "TaxiIn                0.367108\n",
       "TaxiOut               0.023493\n",
       "Cancelled             0.000000\n",
       "CancellationCode      0.000000\n",
       "Diverted              0.000000\n",
       "CarrierDelay         35.588855\n",
       "WeatherDelay         35.588855\n",
       "NASDelay             35.588855\n",
       "SecurityDelay        35.588855\n",
       "LateAircraftDelay    35.588855\n",
       "dtype: float64"
      ]
     },
     "execution_count": 6,
     "metadata": {},
     "output_type": "execute_result"
    }
   ],
   "source": [
    "delayed_flights.isna().sum() / len(delayed_flights) * 100"
   ]
  },
  {
   "cell_type": "code",
   "execution_count": 7,
   "id": "15cf8752",
   "metadata": {
    "scrolled": false
   },
   "outputs": [
    {
     "data": {
      "text/plain": [
       "Month                  0.000000\n",
       "DayofMonth             0.000000\n",
       "DayOfWeek              0.000000\n",
       "DepTime                0.000000\n",
       "CRSDepTime             0.000000\n",
       "ArrTime              100.000000\n",
       "CRSArrTime             0.000000\n",
       "UniqueCarrier          0.000000\n",
       "FlightNum              0.000000\n",
       "TailNum                0.000000\n",
       "ActualElapsedTime    100.000000\n",
       "CRSElapsedTime         0.000000\n",
       "AirTime              100.000000\n",
       "ArrDelay             100.000000\n",
       "DepDelay               0.000000\n",
       "Origin                 0.000000\n",
       "Dest                   0.000000\n",
       "Distance               0.000000\n",
       "TaxiIn               100.000000\n",
       "TaxiOut               71.879937\n",
       "Cancelled              0.000000\n",
       "CancellationCode       0.000000\n",
       "Diverted               0.000000\n",
       "CarrierDelay         100.000000\n",
       "WeatherDelay         100.000000\n",
       "NASDelay             100.000000\n",
       "SecurityDelay        100.000000\n",
       "LateAircraftDelay    100.000000\n",
       "dtype: float64"
      ]
     },
     "execution_count": 7,
     "metadata": {},
     "output_type": "execute_result"
    }
   ],
   "source": [
    "delayed_flights[delayed_flights.Cancelled == 1].isna().sum() / len(delayed_flights[delayed_flights.Cancelled == 1]) * 100"
   ]
  },
  {
   "cell_type": "code",
   "execution_count": 8,
   "id": "ef45e346",
   "metadata": {},
   "outputs": [],
   "source": [
    "indexes = delayed_flights[delayed_flights.Cancelled == 1].index.values"
   ]
  },
  {
   "cell_type": "code",
   "execution_count": 9,
   "id": "5ca7e570",
   "metadata": {},
   "outputs": [],
   "source": [
    "delayed_flights.drop(index=indexes, inplace=True)"
   ]
  },
  {
   "cell_type": "markdown",
   "id": "c1964274",
   "metadata": {},
   "source": [
    "Hem eliminat tots els vols cancelats, per tant, la variable Cancelled ja no ens aporta cap informació. Per aquest motiu, l'eliminem."
   ]
  },
  {
   "cell_type": "code",
   "execution_count": 10,
   "id": "9f2228b5",
   "metadata": {},
   "outputs": [],
   "source": [
    "delayed_flights.drop(columns='Cancelled', inplace=True)"
   ]
  },
  {
   "cell_type": "code",
   "execution_count": 11,
   "id": "6dcc942e",
   "metadata": {},
   "outputs": [],
   "source": [
    "delayed_flights.reset_index(drop=True, inplace=True)"
   ]
  },
  {
   "cell_type": "markdown",
   "id": "9fb777d8",
   "metadata": {},
   "source": [
    "Sembla que els null values de les variables CarrierDelay, WeatherDelay, etc. están relacionats amb ArrDelay, és a dir, que quan el retràs no supera els 14 minuts, no es recullen valors. En aquest cas, creiem que serà convenient imputar-los per 0."
   ]
  },
  {
   "cell_type": "code",
   "execution_count": 12,
   "id": "1a135700",
   "metadata": {
    "scrolled": true
   },
   "outputs": [
    {
     "data": {
      "text/plain": [
       "14.0"
      ]
     },
     "execution_count": 12,
     "metadata": {},
     "output_type": "execute_result"
    }
   ],
   "source": [
    "delayed_flights[delayed_flights.CarrierDelay.isna()].ArrDelay.max()"
   ]
  },
  {
   "cell_type": "code",
   "execution_count": 13,
   "id": "533ef064",
   "metadata": {},
   "outputs": [],
   "source": [
    "indices = delayed_flights[delayed_flights.ArrDelay < 15][['CarrierDelay',\n",
    "       'WeatherDelay', 'NASDelay', 'SecurityDelay', 'LateAircraftDelay']].index.values"
   ]
  },
  {
   "cell_type": "code",
   "execution_count": 14,
   "id": "887ea033",
   "metadata": {},
   "outputs": [],
   "source": [
    "delayed_flights.iloc[indices, -5:] = delayed_flights.iloc[indices, -5:].fillna(0)"
   ]
  },
  {
   "cell_type": "markdown",
   "id": "d8c33227",
   "metadata": {},
   "source": [
    "Sembla que els vols desviats també afecten als valors nuls d'altres variables. Així que els eliminarem de la mateixa forma que els cancelats."
   ]
  },
  {
   "cell_type": "code",
   "execution_count": 15,
   "id": "3d0c1a7d",
   "metadata": {
    "scrolled": true
   },
   "outputs": [
    {
     "data": {
      "text/plain": [
       "Month                  0.000000\n",
       "DayofMonth             0.000000\n",
       "DayOfWeek              0.000000\n",
       "DepTime                0.000000\n",
       "CRSDepTime             0.000000\n",
       "ArrTime               83.531081\n",
       "CRSArrTime             0.000000\n",
       "UniqueCarrier          0.000000\n",
       "FlightNum              0.000000\n",
       "TailNum                0.025793\n",
       "ActualElapsedTime    100.000000\n",
       "CRSElapsedTime         2.553521\n",
       "AirTime              100.000000\n",
       "ArrDelay             100.000000\n",
       "DepDelay               0.000000\n",
       "Origin                 0.000000\n",
       "Dest                   0.000000\n",
       "Distance               0.000000\n",
       "TaxiIn                83.531081\n",
       "TaxiOut                0.000000\n",
       "CancellationCode       0.000000\n",
       "Diverted               0.000000\n",
       "CarrierDelay         100.000000\n",
       "WeatherDelay         100.000000\n",
       "NASDelay             100.000000\n",
       "SecurityDelay        100.000000\n",
       "LateAircraftDelay    100.000000\n",
       "dtype: float64"
      ]
     },
     "execution_count": 15,
     "metadata": {},
     "output_type": "execute_result"
    }
   ],
   "source": [
    "delayed_flights[delayed_flights.Diverted == 1].isna().sum() / len(delayed_flights[delayed_flights.Diverted == 1]) * 100"
   ]
  },
  {
   "cell_type": "code",
   "execution_count": 16,
   "id": "e442490c",
   "metadata": {},
   "outputs": [],
   "source": [
    "indices = delayed_flights[delayed_flights.Diverted == 1].index.values"
   ]
  },
  {
   "cell_type": "code",
   "execution_count": 17,
   "id": "8962ccf4",
   "metadata": {},
   "outputs": [],
   "source": [
    "delayed_flights.drop(index=indices, inplace=True)"
   ]
  },
  {
   "cell_type": "code",
   "execution_count": 18,
   "id": "882418d5",
   "metadata": {},
   "outputs": [],
   "source": [
    "delayed_flights.drop(columns='Diverted', inplace=True)"
   ]
  },
  {
   "cell_type": "code",
   "execution_count": 19,
   "id": "1001a411",
   "metadata": {},
   "outputs": [],
   "source": [
    "delayed_flights.reset_index(drop=True, inplace=True)"
   ]
  },
  {
   "cell_type": "code",
   "execution_count": 20,
   "id": "8ec43c75",
   "metadata": {
    "scrolled": false
   },
   "outputs": [
    {
     "data": {
      "text/plain": [
       "Month                0.000000\n",
       "DayofMonth           0.000000\n",
       "DayOfWeek            0.000000\n",
       "DepTime              0.000000\n",
       "CRSDepTime           0.000000\n",
       "ArrTime              0.000000\n",
       "CRSArrTime           0.000000\n",
       "UniqueCarrier        0.000000\n",
       "FlightNum            0.000000\n",
       "TailNum              0.000156\n",
       "ActualElapsedTime    0.000000\n",
       "CRSElapsedTime       0.000000\n",
       "AirTime              0.000000\n",
       "ArrDelay             0.000000\n",
       "DepDelay             0.000000\n",
       "Origin               0.000000\n",
       "Dest                 0.000000\n",
       "Distance             0.000000\n",
       "TaxiIn               0.000000\n",
       "TaxiOut              0.000000\n",
       "CancellationCode     0.000000\n",
       "CarrierDelay         0.000000\n",
       "WeatherDelay         0.000000\n",
       "NASDelay             0.000000\n",
       "SecurityDelay        0.000000\n",
       "LateAircraftDelay    0.000000\n",
       "dtype: float64"
      ]
     },
     "execution_count": 20,
     "metadata": {},
     "output_type": "execute_result"
    }
   ],
   "source": [
    "delayed_flights.isna().sum() / len(delayed_flights) * 100"
   ]
  },
  {
   "cell_type": "markdown",
   "id": "e83cee6a",
   "metadata": {},
   "source": [
    "Per acabar, hem decidit imputar els valors nuls de TailNum per la moda."
   ]
  },
  {
   "cell_type": "code",
   "execution_count": 21,
   "id": "7b21d860",
   "metadata": {},
   "outputs": [],
   "source": [
    "delayed_flights.TailNum.fillna(delayed_flights.TailNum.mode()[0], inplace=True)"
   ]
  },
  {
   "cell_type": "code",
   "execution_count": 22,
   "id": "986429df",
   "metadata": {
    "scrolled": true
   },
   "outputs": [
    {
     "data": {
      "text/plain": [
       "Month                0\n",
       "DayofMonth           0\n",
       "DayOfWeek            0\n",
       "DepTime              0\n",
       "CRSDepTime           0\n",
       "ArrTime              0\n",
       "CRSArrTime           0\n",
       "UniqueCarrier        0\n",
       "FlightNum            0\n",
       "TailNum              0\n",
       "ActualElapsedTime    0\n",
       "CRSElapsedTime       0\n",
       "AirTime              0\n",
       "ArrDelay             0\n",
       "DepDelay             0\n",
       "Origin               0\n",
       "Dest                 0\n",
       "Distance             0\n",
       "TaxiIn               0\n",
       "TaxiOut              0\n",
       "CancellationCode     0\n",
       "CarrierDelay         0\n",
       "WeatherDelay         0\n",
       "NASDelay             0\n",
       "SecurityDelay        0\n",
       "LateAircraftDelay    0\n",
       "dtype: int64"
      ]
     },
     "execution_count": 22,
     "metadata": {},
     "output_type": "execute_result"
    }
   ],
   "source": [
    "delayed_flights.isna().sum()"
   ]
  },
  {
   "cell_type": "markdown",
   "id": "aaae446c",
   "metadata": {},
   "source": [
    "Separar les variables per tipus"
   ]
  },
  {
   "cell_type": "code",
   "execution_count": 23,
   "id": "a8d2a9c2",
   "metadata": {},
   "outputs": [],
   "source": [
    "cyclical = ['Month', 'DayofMonth', 'DayOfWeek', 'DepTime', 'CRSDepTime', 'ArrTime', 'CRSArrTime']\n",
    "nominal = ['UniqueCarrier', 'FlightNum', 'TailNum', 'Origin', 'Dest', 'CancellationCode']\n",
    "binomial = ['Cancelled', 'Diverted']\n",
    "numerical = ['ActualElapsedTime', 'CRSElapsedTime', 'AirTime', \n",
    "            'ArrDelay', 'DepDelay', 'Distance', 'TaxiIn', 'TaxiOut', 'CarrierDelay',\n",
    "           'WeatherDelay', 'NASDelay', 'SecurityDelay', 'LateAircraftDelay']"
   ]
  },
  {
   "cell_type": "code",
   "execution_count": 24,
   "id": "a3b0fba4",
   "metadata": {
    "scrolled": false
   },
   "outputs": [
    {
     "data": {
      "text/plain": [
       "ActualElapsedTime     1.427101\n",
       "CRSElapsedTime        1.439446\n",
       "AirTime               1.495251\n",
       "ArrDelay              3.948780\n",
       "DepDelay              4.500579\n",
       "Distance              1.546581\n",
       "TaxiIn                5.989240\n",
       "TaxiOut               4.497800\n",
       "CarrierDelay          8.863144\n",
       "WeatherDelay         15.595925\n",
       "NASDelay              6.151299\n",
       "SecurityDelay        64.912970\n",
       "LateAircraftDelay     4.045036\n",
       "dtype: float64"
      ]
     },
     "execution_count": 24,
     "metadata": {},
     "output_type": "execute_result"
    }
   ],
   "source": [
    "delayed_flights[numerical].skew()"
   ]
  },
  {
   "cell_type": "code",
   "execution_count": 25,
   "id": "de8fd17c",
   "metadata": {
    "scrolled": true
   },
   "outputs": [
    {
     "data": {
      "text/plain": [
       "ActualElapsedTime     0.133347\n",
       "CRSElapsedTime        0.193822\n",
       "AirTime               0.002158\n",
       "ArrDelay             -0.596587\n",
       "DepDelay              0.382507\n",
       "Distance             -0.213776\n",
       "TaxiIn                0.452935\n",
       "TaxiOut               0.671148\n",
       "CarrierDelay          1.190391\n",
       "WeatherDelay          4.788023\n",
       "NASDelay              1.364237\n",
       "SecurityDelay        20.740511\n",
       "LateAircraftDelay     0.916293\n",
       "dtype: float64"
      ]
     },
     "execution_count": 25,
     "metadata": {},
     "output_type": "execute_result"
    }
   ],
   "source": [
    "delayed_flights[numerical] = pd.DataFrame(data=np.ma.log(delayed_flights[numerical].values).filled(0), columns=numerical)\n",
    "delayed_flights[numerical].skew()"
   ]
  },
  {
   "cell_type": "markdown",
   "id": "6bdfa02b",
   "metadata": {},
   "source": [
    "Aplicarem cyclical transforming per a les variables ordinals, frequency encoding per a les nominals i estandarditzarem les variables numèriques. Les variables cancelled i diverted son binomials, però no requereixen cap tipus de transformació."
   ]
  },
  {
   "cell_type": "code",
   "execution_count": 26,
   "id": "254c2516",
   "metadata": {},
   "outputs": [
    {
     "name": "stdout",
     "output_type": "stream",
     "text": [
      "[ 1  2  3  4  5  6  7  8  9 10 11 12]\n",
      "================================================================\n",
      "[ 1  2  3  4  5  6  7  8  9 10 11 12 13 14 15 16 17 18 19 20 21 22 23 24\n",
      " 25 26 27 28 29 30 31]\n",
      "================================================================\n",
      "[1 2 3 4 5 6 7]\n",
      "================================================================\n",
      "1.0 2400.0\n",
      "================================================================\n",
      "0 2359\n",
      "================================================================\n",
      "1.0 2400.0\n",
      "================================================================\n",
      "0 2359\n",
      "================================================================\n"
     ]
    }
   ],
   "source": [
    "for column in cyclical[:3]:\n",
    "    print(np.sort(delayed_flights[column].unique()))\n",
    "    print('='*64)\n",
    "\n",
    "for column in cyclical[3:]:\n",
    "    print(delayed_flights[column].min(), delayed_flights[column].max())\n",
    "    print('='*64)"
   ]
  },
  {
   "cell_type": "code",
   "execution_count": 27,
   "id": "4a740f3b",
   "metadata": {},
   "outputs": [],
   "source": [
    "delayed_flights['mnth_sin'] = np.sin((delayed_flights.Month -1)*(2.*np.pi/12))\n",
    "delayed_flights['mnth_cos'] = np.cos((delayed_flights.Month -1)*(2.*np.pi/12))\n",
    "delayed_flights['day_M_sin'] = np.sin((delayed_flights.DayofMonth -1)*(2.*np.pi/31))\n",
    "delayed_flights['day_M_cos'] = np.cos((delayed_flights.DayofMonth -1)*(2.*np.pi/31))\n",
    "delayed_flights['day_W_sin'] = np.sin((delayed_flights.DayOfWeek -1)*(2.*np.pi/7))\n",
    "delayed_flights['day_W_cos'] = np.cos((delayed_flights.DayOfWeek -1)*(2.*np.pi/7))"
   ]
  },
  {
   "cell_type": "code",
   "execution_count": 28,
   "id": "12d793a6",
   "metadata": {
    "scrolled": false
   },
   "outputs": [
    {
     "data": {
      "text/html": [
       "<div>\n",
       "<style scoped>\n",
       "    .dataframe tbody tr th:only-of-type {\n",
       "        vertical-align: middle;\n",
       "    }\n",
       "\n",
       "    .dataframe tbody tr th {\n",
       "        vertical-align: top;\n",
       "    }\n",
       "\n",
       "    .dataframe thead th {\n",
       "        text-align: right;\n",
       "    }\n",
       "</style>\n",
       "<table border=\"1\" class=\"dataframe\">\n",
       "  <thead>\n",
       "    <tr style=\"text-align: right;\">\n",
       "      <th></th>\n",
       "      <th>Month</th>\n",
       "      <th>mnth_sin</th>\n",
       "      <th>mnth_cos</th>\n",
       "      <th>DayofMonth</th>\n",
       "      <th>day_M_sin</th>\n",
       "      <th>day_M_cos</th>\n",
       "      <th>DayOfWeek</th>\n",
       "      <th>day_W_sin</th>\n",
       "      <th>day_W_cos</th>\n",
       "    </tr>\n",
       "  </thead>\n",
       "  <tbody>\n",
       "    <tr>\n",
       "      <th>0</th>\n",
       "      <td>1</td>\n",
       "      <td>0.000</td>\n",
       "      <td>1.000</td>\n",
       "      <td>3</td>\n",
       "      <td>0.394</td>\n",
       "      <td>0.919</td>\n",
       "      <td>4</td>\n",
       "      <td>0.434</td>\n",
       "      <td>-0.901</td>\n",
       "    </tr>\n",
       "    <tr>\n",
       "      <th>200000</th>\n",
       "      <td>2</td>\n",
       "      <td>0.500</td>\n",
       "      <td>0.866</td>\n",
       "      <td>15</td>\n",
       "      <td>0.299</td>\n",
       "      <td>-0.954</td>\n",
       "      <td>5</td>\n",
       "      <td>-0.434</td>\n",
       "      <td>-0.901</td>\n",
       "    </tr>\n",
       "    <tr>\n",
       "      <th>400000</th>\n",
       "      <td>3</td>\n",
       "      <td>0.866</td>\n",
       "      <td>0.500</td>\n",
       "      <td>24</td>\n",
       "      <td>-0.999</td>\n",
       "      <td>-0.051</td>\n",
       "      <td>1</td>\n",
       "      <td>0.000</td>\n",
       "      <td>1.000</td>\n",
       "    </tr>\n",
       "    <tr>\n",
       "      <th>600000</th>\n",
       "      <td>4</td>\n",
       "      <td>1.000</td>\n",
       "      <td>0.000</td>\n",
       "      <td>14</td>\n",
       "      <td>0.485</td>\n",
       "      <td>-0.874</td>\n",
       "      <td>1</td>\n",
       "      <td>0.000</td>\n",
       "      <td>1.000</td>\n",
       "    </tr>\n",
       "    <tr>\n",
       "      <th>800000</th>\n",
       "      <td>5</td>\n",
       "      <td>0.866</td>\n",
       "      <td>-0.500</td>\n",
       "      <td>20</td>\n",
       "      <td>-0.651</td>\n",
       "      <td>-0.759</td>\n",
       "      <td>2</td>\n",
       "      <td>0.782</td>\n",
       "      <td>0.623</td>\n",
       "    </tr>\n",
       "    <tr>\n",
       "      <th>1000000</th>\n",
       "      <td>6</td>\n",
       "      <td>0.500</td>\n",
       "      <td>-0.866</td>\n",
       "      <td>22</td>\n",
       "      <td>-0.898</td>\n",
       "      <td>-0.440</td>\n",
       "      <td>7</td>\n",
       "      <td>-0.782</td>\n",
       "      <td>0.623</td>\n",
       "    </tr>\n",
       "    <tr>\n",
       "      <th>1200000</th>\n",
       "      <td>7</td>\n",
       "      <td>0.000</td>\n",
       "      <td>-1.000</td>\n",
       "      <td>1</td>\n",
       "      <td>0.000</td>\n",
       "      <td>1.000</td>\n",
       "      <td>2</td>\n",
       "      <td>0.782</td>\n",
       "      <td>0.623</td>\n",
       "    </tr>\n",
       "    <tr>\n",
       "      <th>1400000</th>\n",
       "      <td>8</td>\n",
       "      <td>-0.500</td>\n",
       "      <td>-0.866</td>\n",
       "      <td>20</td>\n",
       "      <td>-0.651</td>\n",
       "      <td>-0.759</td>\n",
       "      <td>3</td>\n",
       "      <td>0.975</td>\n",
       "      <td>-0.223</td>\n",
       "    </tr>\n",
       "    <tr>\n",
       "      <th>1600000</th>\n",
       "      <td>10</td>\n",
       "      <td>-1.000</td>\n",
       "      <td>-0.000</td>\n",
       "      <td>14</td>\n",
       "      <td>0.485</td>\n",
       "      <td>-0.874</td>\n",
       "      <td>2</td>\n",
       "      <td>0.782</td>\n",
       "      <td>0.623</td>\n",
       "    </tr>\n",
       "    <tr>\n",
       "      <th>1800000</th>\n",
       "      <td>12</td>\n",
       "      <td>-0.500</td>\n",
       "      <td>0.866</td>\n",
       "      <td>22</td>\n",
       "      <td>-0.898</td>\n",
       "      <td>-0.440</td>\n",
       "      <td>1</td>\n",
       "      <td>0.000</td>\n",
       "      <td>1.000</td>\n",
       "    </tr>\n",
       "  </tbody>\n",
       "</table>\n",
       "</div>"
      ],
      "text/plain": [
       "         Month  mnth_sin  mnth_cos  DayofMonth  day_M_sin  day_M_cos  \\\n",
       "0            1     0.000     1.000           3      0.394      0.919   \n",
       "200000       2     0.500     0.866          15      0.299     -0.954   \n",
       "400000       3     0.866     0.500          24     -0.999     -0.051   \n",
       "600000       4     1.000     0.000          14      0.485     -0.874   \n",
       "800000       5     0.866    -0.500          20     -0.651     -0.759   \n",
       "1000000      6     0.500    -0.866          22     -0.898     -0.440   \n",
       "1200000      7     0.000    -1.000           1      0.000      1.000   \n",
       "1400000      8    -0.500    -0.866          20     -0.651     -0.759   \n",
       "1600000     10    -1.000    -0.000          14      0.485     -0.874   \n",
       "1800000     12    -0.500     0.866          22     -0.898     -0.440   \n",
       "\n",
       "         DayOfWeek  day_W_sin  day_W_cos  \n",
       "0                4      0.434     -0.901  \n",
       "200000           5     -0.434     -0.901  \n",
       "400000           1      0.000      1.000  \n",
       "600000           1      0.000      1.000  \n",
       "800000           2      0.782      0.623  \n",
       "1000000          7     -0.782      0.623  \n",
       "1200000          2      0.782      0.623  \n",
       "1400000          3      0.975     -0.223  \n",
       "1600000          2      0.782      0.623  \n",
       "1800000          1      0.000      1.000  "
      ]
     },
     "execution_count": 28,
     "metadata": {},
     "output_type": "execute_result"
    }
   ],
   "source": [
    "round(delayed_flights[['Month','mnth_sin', 'mnth_cos', 'DayofMonth', 'day_M_sin', 'day_M_cos', 'DayOfWeek', 'day_W_sin', 'day_W_cos']][::200000], 3)"
   ]
  },
  {
   "cell_type": "code",
   "execution_count": 29,
   "id": "5f174641",
   "metadata": {},
   "outputs": [],
   "source": [
    "delayed_flights['DepTime_sin'] = np.sin((delayed_flights.DepTime)*(2.*np.pi/2400))\n",
    "delayed_flights['DepTime_cos'] = np.cos((delayed_flights.DepTime)*(2.*np.pi/2400))\n",
    "delayed_flights['CRSDepTime_sin'] = np.sin((delayed_flights.CRSDepTime)*(2.*np.pi/2359))\n",
    "delayed_flights['CRSDepTime_cos'] = np.cos((delayed_flights.CRSDepTime)*(2.*np.pi/2359))\n",
    "delayed_flights['ArrTime_sin'] = np.sin((delayed_flights.ArrTime)*(2.*np.pi/2400))\n",
    "delayed_flights['ArrTime_cos'] = np.cos((delayed_flights.ArrTime)*(2.*np.pi/2400))\n",
    "delayed_flights['CRSArrTime_sin'] = np.sin((delayed_flights.CRSArrTime)*(2.*np.pi/2400))\n",
    "delayed_flights['CRSArrTime_cos'] = np.cos((delayed_flights.CRSArrTime)*(2.*np.pi/2400))"
   ]
  },
  {
   "cell_type": "code",
   "execution_count": 30,
   "id": "467b1756",
   "metadata": {},
   "outputs": [
    {
     "data": {
      "text/html": [
       "<div>\n",
       "<style scoped>\n",
       "    .dataframe tbody tr th:only-of-type {\n",
       "        vertical-align: middle;\n",
       "    }\n",
       "\n",
       "    .dataframe tbody tr th {\n",
       "        vertical-align: top;\n",
       "    }\n",
       "\n",
       "    .dataframe thead th {\n",
       "        text-align: right;\n",
       "    }\n",
       "</style>\n",
       "<table border=\"1\" class=\"dataframe\">\n",
       "  <thead>\n",
       "    <tr style=\"text-align: right;\">\n",
       "      <th></th>\n",
       "      <th>CRSDepTime</th>\n",
       "      <th>CRSDepTime_sin</th>\n",
       "      <th>CRSDepTime_cos</th>\n",
       "    </tr>\n",
       "  </thead>\n",
       "  <tbody>\n",
       "    <tr>\n",
       "      <th>250004</th>\n",
       "      <td>0</td>\n",
       "      <td>0.0</td>\n",
       "      <td>1.0</td>\n",
       "    </tr>\n",
       "    <tr>\n",
       "      <th>945888</th>\n",
       "      <td>0</td>\n",
       "      <td>0.0</td>\n",
       "      <td>1.0</td>\n",
       "    </tr>\n",
       "  </tbody>\n",
       "</table>\n",
       "</div>"
      ],
      "text/plain": [
       "        CRSDepTime  CRSDepTime_sin  CRSDepTime_cos\n",
       "250004           0             0.0             1.0\n",
       "945888           0             0.0             1.0"
      ]
     },
     "execution_count": 30,
     "metadata": {},
     "output_type": "execute_result"
    }
   ],
   "source": [
    "delayed_flights[delayed_flights.CRSDepTime == 0][['CRSDepTime', 'CRSDepTime_sin', 'CRSDepTime_cos']]"
   ]
  },
  {
   "cell_type": "code",
   "execution_count": 31,
   "id": "00c24300",
   "metadata": {
    "scrolled": true
   },
   "outputs": [
    {
     "data": {
      "text/html": [
       "<div>\n",
       "<style scoped>\n",
       "    .dataframe tbody tr th:only-of-type {\n",
       "        vertical-align: middle;\n",
       "    }\n",
       "\n",
       "    .dataframe tbody tr th {\n",
       "        vertical-align: top;\n",
       "    }\n",
       "\n",
       "    .dataframe thead th {\n",
       "        text-align: right;\n",
       "    }\n",
       "</style>\n",
       "<table border=\"1\" class=\"dataframe\">\n",
       "  <thead>\n",
       "    <tr style=\"text-align: right;\">\n",
       "      <th></th>\n",
       "      <th>CRSDepTime</th>\n",
       "      <th>CRSDepTime_sin</th>\n",
       "      <th>CRSDepTime_cos</th>\n",
       "    </tr>\n",
       "  </thead>\n",
       "  <tbody>\n",
       "    <tr>\n",
       "      <th>81472</th>\n",
       "      <td>2358</td>\n",
       "      <td>-0.00266</td>\n",
       "      <td>1.0</td>\n",
       "    </tr>\n",
       "    <tr>\n",
       "      <th>82440</th>\n",
       "      <td>2358</td>\n",
       "      <td>-0.00266</td>\n",
       "      <td>1.0</td>\n",
       "    </tr>\n",
       "    <tr>\n",
       "      <th>82838</th>\n",
       "      <td>2358</td>\n",
       "      <td>-0.00266</td>\n",
       "      <td>1.0</td>\n",
       "    </tr>\n",
       "    <tr>\n",
       "      <th>89259</th>\n",
       "      <td>2358</td>\n",
       "      <td>-0.00266</td>\n",
       "      <td>1.0</td>\n",
       "    </tr>\n",
       "    <tr>\n",
       "      <th>89748</th>\n",
       "      <td>2358</td>\n",
       "      <td>-0.00266</td>\n",
       "      <td>1.0</td>\n",
       "    </tr>\n",
       "    <tr>\n",
       "      <th>...</th>\n",
       "      <td>...</td>\n",
       "      <td>...</td>\n",
       "      <td>...</td>\n",
       "    </tr>\n",
       "    <tr>\n",
       "      <th>1609959</th>\n",
       "      <td>2358</td>\n",
       "      <td>-0.00266</td>\n",
       "      <td>1.0</td>\n",
       "    </tr>\n",
       "    <tr>\n",
       "      <th>1610100</th>\n",
       "      <td>2358</td>\n",
       "      <td>-0.00266</td>\n",
       "      <td>1.0</td>\n",
       "    </tr>\n",
       "    <tr>\n",
       "      <th>1610180</th>\n",
       "      <td>2358</td>\n",
       "      <td>-0.00266</td>\n",
       "      <td>1.0</td>\n",
       "    </tr>\n",
       "    <tr>\n",
       "      <th>1611059</th>\n",
       "      <td>2358</td>\n",
       "      <td>-0.00266</td>\n",
       "      <td>1.0</td>\n",
       "    </tr>\n",
       "    <tr>\n",
       "      <th>1712917</th>\n",
       "      <td>2358</td>\n",
       "      <td>-0.00266</td>\n",
       "      <td>1.0</td>\n",
       "    </tr>\n",
       "  </tbody>\n",
       "</table>\n",
       "<p>147 rows × 3 columns</p>\n",
       "</div>"
      ],
      "text/plain": [
       "         CRSDepTime  CRSDepTime_sin  CRSDepTime_cos\n",
       "81472          2358        -0.00266             1.0\n",
       "82440          2358        -0.00266             1.0\n",
       "82838          2358        -0.00266             1.0\n",
       "89259          2358        -0.00266             1.0\n",
       "89748          2358        -0.00266             1.0\n",
       "...             ...             ...             ...\n",
       "1609959        2358        -0.00266             1.0\n",
       "1610100        2358        -0.00266             1.0\n",
       "1610180        2358        -0.00266             1.0\n",
       "1611059        2358        -0.00266             1.0\n",
       "1712917        2358        -0.00266             1.0\n",
       "\n",
       "[147 rows x 3 columns]"
      ]
     },
     "execution_count": 31,
     "metadata": {},
     "output_type": "execute_result"
    }
   ],
   "source": [
    "round(delayed_flights[delayed_flights.CRSDepTime == 2358][['CRSDepTime', 'CRSDepTime_sin', 'CRSDepTime_cos']], 5)"
   ]
  },
  {
   "cell_type": "markdown",
   "id": "43c7872a",
   "metadata": {},
   "source": [
    "Com podem observar, hem aconseguit que els valors siguin cíclics, de forma que la última hora/dia estigui a prop de la primera, que és com passa en el temps cíclic."
   ]
  },
  {
   "cell_type": "code",
   "execution_count": 32,
   "id": "c854eb40",
   "metadata": {},
   "outputs": [],
   "source": [
    "delayed_flights.drop(columns=cyclical, inplace=True)"
   ]
  },
  {
   "cell_type": "code",
   "execution_count": 33,
   "id": "e0c81b24",
   "metadata": {},
   "outputs": [],
   "source": [
    "cyclical = ['mnth_sin', 'mnth_cos', 'day_M_sin', 'day_M_cos', 'day_W_sin', 'day_W_cos', 'DepTime_sin', 'DepTime_cos', 'ArrTime_sin',\n",
    "       'ArrTime_cos', 'CRSDepTime_sin', 'CRSDepTime_cos', 'CRSArrTime_sin',\n",
    "       'CRSArrTime_cos']"
   ]
  },
  {
   "cell_type": "code",
   "execution_count": 34,
   "id": "4764d889",
   "metadata": {
    "scrolled": false
   },
   "outputs": [
    {
     "data": {
      "text/html": [
       "<div>\n",
       "<style scoped>\n",
       "    .dataframe tbody tr th:only-of-type {\n",
       "        vertical-align: middle;\n",
       "    }\n",
       "\n",
       "    .dataframe tbody tr th {\n",
       "        vertical-align: top;\n",
       "    }\n",
       "\n",
       "    .dataframe thead th {\n",
       "        text-align: right;\n",
       "    }\n",
       "</style>\n",
       "<table border=\"1\" class=\"dataframe\">\n",
       "  <thead>\n",
       "    <tr style=\"text-align: right;\">\n",
       "      <th></th>\n",
       "      <th>mnth_sin</th>\n",
       "      <th>mnth_cos</th>\n",
       "      <th>day_M_sin</th>\n",
       "      <th>day_M_cos</th>\n",
       "      <th>day_W_sin</th>\n",
       "      <th>day_W_cos</th>\n",
       "      <th>DepTime_sin</th>\n",
       "      <th>DepTime_cos</th>\n",
       "      <th>ArrTime_sin</th>\n",
       "      <th>ArrTime_cos</th>\n",
       "      <th>CRSDepTime_sin</th>\n",
       "      <th>CRSDepTime_cos</th>\n",
       "      <th>CRSArrTime_sin</th>\n",
       "      <th>CRSArrTime_cos</th>\n",
       "    </tr>\n",
       "  </thead>\n",
       "  <tbody>\n",
       "    <tr>\n",
       "      <th>0</th>\n",
       "      <td>0.0</td>\n",
       "      <td>1.000000</td>\n",
       "      <td>0.394356</td>\n",
       "      <td>0.918958</td>\n",
       "      <td>0.433884</td>\n",
       "      <td>-0.900969</td>\n",
       "      <td>-0.862072</td>\n",
       "      <td>0.506786</td>\n",
       "      <td>-0.474856</td>\n",
       "      <td>0.880063</td>\n",
       "      <td>-0.880090</td>\n",
       "      <td>0.474807</td>\n",
       "      <td>-0.442289</td>\n",
       "      <td>0.896873</td>\n",
       "    </tr>\n",
       "    <tr>\n",
       "      <th>1</th>\n",
       "      <td>0.0</td>\n",
       "      <td>1.000000</td>\n",
       "      <td>0.394356</td>\n",
       "      <td>0.918958</td>\n",
       "      <td>0.433884</td>\n",
       "      <td>-0.900969</td>\n",
       "      <td>0.919821</td>\n",
       "      <td>-0.392337</td>\n",
       "      <td>0.495459</td>\n",
       "      <td>-0.868632</td>\n",
       "      <td>0.926094</td>\n",
       "      <td>-0.377294</td>\n",
       "      <td>0.500000</td>\n",
       "      <td>-0.866025</td>\n",
       "    </tr>\n",
       "    <tr>\n",
       "      <th>2</th>\n",
       "      <td>0.0</td>\n",
       "      <td>1.000000</td>\n",
       "      <td>0.394356</td>\n",
       "      <td>0.918958</td>\n",
       "      <td>0.433884</td>\n",
       "      <td>-0.900969</td>\n",
       "      <td>0.997314</td>\n",
       "      <td>-0.073238</td>\n",
       "      <td>0.860742</td>\n",
       "      <td>-0.509041</td>\n",
       "      <td>0.996756</td>\n",
       "      <td>-0.080484</td>\n",
       "      <td>0.923880</td>\n",
       "      <td>-0.382683</td>\n",
       "    </tr>\n",
       "    <tr>\n",
       "      <th>3</th>\n",
       "      <td>0.0</td>\n",
       "      <td>1.000000</td>\n",
       "      <td>0.394356</td>\n",
       "      <td>0.918958</td>\n",
       "      <td>0.433884</td>\n",
       "      <td>-0.900969</td>\n",
       "      <td>-0.997119</td>\n",
       "      <td>0.075849</td>\n",
       "      <td>-0.914607</td>\n",
       "      <td>0.404344</td>\n",
       "      <td>-0.999280</td>\n",
       "      <td>-0.037946</td>\n",
       "      <td>-0.946930</td>\n",
       "      <td>0.321439</td>\n",
       "    </tr>\n",
       "    <tr>\n",
       "      <th>4</th>\n",
       "      <td>0.0</td>\n",
       "      <td>1.000000</td>\n",
       "      <td>0.394356</td>\n",
       "      <td>0.918958</td>\n",
       "      <td>0.433884</td>\n",
       "      <td>-0.900969</td>\n",
       "      <td>-0.933580</td>\n",
       "      <td>0.358368</td>\n",
       "      <td>-0.667183</td>\n",
       "      <td>0.744894</td>\n",
       "      <td>-0.925590</td>\n",
       "      <td>0.378527</td>\n",
       "      <td>-0.688355</td>\n",
       "      <td>0.725374</td>\n",
       "    </tr>\n",
       "    <tr>\n",
       "      <th>...</th>\n",
       "      <td>...</td>\n",
       "      <td>...</td>\n",
       "      <td>...</td>\n",
       "      <td>...</td>\n",
       "      <td>...</td>\n",
       "      <td>...</td>\n",
       "      <td>...</td>\n",
       "      <td>...</td>\n",
       "      <td>...</td>\n",
       "      <td>...</td>\n",
       "      <td>...</td>\n",
       "      <td>...</td>\n",
       "      <td>...</td>\n",
       "      <td>...</td>\n",
       "    </tr>\n",
       "    <tr>\n",
       "      <th>1928366</th>\n",
       "      <td>-0.5</td>\n",
       "      <td>0.866025</td>\n",
       "      <td>0.651372</td>\n",
       "      <td>-0.758758</td>\n",
       "      <td>-0.974928</td>\n",
       "      <td>-0.222521</td>\n",
       "      <td>-0.130526</td>\n",
       "      <td>-0.991445</td>\n",
       "      <td>-0.887413</td>\n",
       "      <td>-0.460974</td>\n",
       "      <td>-0.107662</td>\n",
       "      <td>-0.994188</td>\n",
       "      <td>-0.796530</td>\n",
       "      <td>-0.604599</td>\n",
       "    </tr>\n",
       "    <tr>\n",
       "      <th>1928367</th>\n",
       "      <td>-0.5</td>\n",
       "      <td>0.866025</td>\n",
       "      <td>0.651372</td>\n",
       "      <td>-0.758758</td>\n",
       "      <td>-0.974928</td>\n",
       "      <td>-0.222521</td>\n",
       "      <td>0.988886</td>\n",
       "      <td>-0.148672</td>\n",
       "      <td>0.699663</td>\n",
       "      <td>-0.714473</td>\n",
       "      <td>0.999627</td>\n",
       "      <td>-0.027297</td>\n",
       "      <td>0.924878</td>\n",
       "      <td>-0.380263</td>\n",
       "    </tr>\n",
       "    <tr>\n",
       "      <th>1928368</th>\n",
       "      <td>-0.5</td>\n",
       "      <td>0.866025</td>\n",
       "      <td>0.651372</td>\n",
       "      <td>-0.758758</td>\n",
       "      <td>-0.974928</td>\n",
       "      <td>-0.222521</td>\n",
       "      <td>0.484046</td>\n",
       "      <td>-0.875042</td>\n",
       "      <td>0.133121</td>\n",
       "      <td>-0.991100</td>\n",
       "      <td>0.774303</td>\n",
       "      <td>-0.632816</td>\n",
       "      <td>0.477159</td>\n",
       "      <td>-0.878817</td>\n",
       "    </tr>\n",
       "    <tr>\n",
       "      <th>1928369</th>\n",
       "      <td>-0.5</td>\n",
       "      <td>0.866025</td>\n",
       "      <td>0.651372</td>\n",
       "      <td>-0.758758</td>\n",
       "      <td>-0.974928</td>\n",
       "      <td>-0.222521</td>\n",
       "      <td>-0.133121</td>\n",
       "      <td>-0.991100</td>\n",
       "      <td>-0.600420</td>\n",
       "      <td>-0.799685</td>\n",
       "      <td>-0.160445</td>\n",
       "      <td>-0.987045</td>\n",
       "      <td>-0.581413</td>\n",
       "      <td>-0.813608</td>\n",
       "    </tr>\n",
       "    <tr>\n",
       "      <th>1928370</th>\n",
       "      <td>-0.5</td>\n",
       "      <td>0.866025</td>\n",
       "      <td>0.651372</td>\n",
       "      <td>-0.758758</td>\n",
       "      <td>-0.974928</td>\n",
       "      <td>-0.222521</td>\n",
       "      <td>0.233445</td>\n",
       "      <td>-0.972370</td>\n",
       "      <td>-0.529179</td>\n",
       "      <td>-0.848510</td>\n",
       "      <td>0.202350</td>\n",
       "      <td>-0.979313</td>\n",
       "      <td>-0.540240</td>\n",
       "      <td>-0.841511</td>\n",
       "    </tr>\n",
       "  </tbody>\n",
       "</table>\n",
       "<p>1928371 rows × 14 columns</p>\n",
       "</div>"
      ],
      "text/plain": [
       "         mnth_sin  mnth_cos  day_M_sin  day_M_cos  day_W_sin  day_W_cos  \\\n",
       "0             0.0  1.000000   0.394356   0.918958   0.433884  -0.900969   \n",
       "1             0.0  1.000000   0.394356   0.918958   0.433884  -0.900969   \n",
       "2             0.0  1.000000   0.394356   0.918958   0.433884  -0.900969   \n",
       "3             0.0  1.000000   0.394356   0.918958   0.433884  -0.900969   \n",
       "4             0.0  1.000000   0.394356   0.918958   0.433884  -0.900969   \n",
       "...           ...       ...        ...        ...        ...        ...   \n",
       "1928366      -0.5  0.866025   0.651372  -0.758758  -0.974928  -0.222521   \n",
       "1928367      -0.5  0.866025   0.651372  -0.758758  -0.974928  -0.222521   \n",
       "1928368      -0.5  0.866025   0.651372  -0.758758  -0.974928  -0.222521   \n",
       "1928369      -0.5  0.866025   0.651372  -0.758758  -0.974928  -0.222521   \n",
       "1928370      -0.5  0.866025   0.651372  -0.758758  -0.974928  -0.222521   \n",
       "\n",
       "         DepTime_sin  DepTime_cos  ArrTime_sin  ArrTime_cos  CRSDepTime_sin  \\\n",
       "0          -0.862072     0.506786    -0.474856     0.880063       -0.880090   \n",
       "1           0.919821    -0.392337     0.495459    -0.868632        0.926094   \n",
       "2           0.997314    -0.073238     0.860742    -0.509041        0.996756   \n",
       "3          -0.997119     0.075849    -0.914607     0.404344       -0.999280   \n",
       "4          -0.933580     0.358368    -0.667183     0.744894       -0.925590   \n",
       "...              ...          ...          ...          ...             ...   \n",
       "1928366    -0.130526    -0.991445    -0.887413    -0.460974       -0.107662   \n",
       "1928367     0.988886    -0.148672     0.699663    -0.714473        0.999627   \n",
       "1928368     0.484046    -0.875042     0.133121    -0.991100        0.774303   \n",
       "1928369    -0.133121    -0.991100    -0.600420    -0.799685       -0.160445   \n",
       "1928370     0.233445    -0.972370    -0.529179    -0.848510        0.202350   \n",
       "\n",
       "         CRSDepTime_cos  CRSArrTime_sin  CRSArrTime_cos  \n",
       "0              0.474807       -0.442289        0.896873  \n",
       "1             -0.377294        0.500000       -0.866025  \n",
       "2             -0.080484        0.923880       -0.382683  \n",
       "3             -0.037946       -0.946930        0.321439  \n",
       "4              0.378527       -0.688355        0.725374  \n",
       "...                 ...             ...             ...  \n",
       "1928366       -0.994188       -0.796530       -0.604599  \n",
       "1928367       -0.027297        0.924878       -0.380263  \n",
       "1928368       -0.632816        0.477159       -0.878817  \n",
       "1928369       -0.987045       -0.581413       -0.813608  \n",
       "1928370       -0.979313       -0.540240       -0.841511  \n",
       "\n",
       "[1928371 rows x 14 columns]"
      ]
     },
     "execution_count": 34,
     "metadata": {},
     "output_type": "execute_result"
    }
   ],
   "source": [
    "delayed_flights[cyclical]"
   ]
  },
  {
   "cell_type": "code",
   "execution_count": 35,
   "id": "679df0ce",
   "metadata": {
    "scrolled": true
   },
   "outputs": [],
   "source": [
    "for column in nominal:\n",
    "    mapping = delayed_flights[column].value_counts() / len(delayed_flights)\n",
    "    delayed_flights[column] = delayed_flights[column].map(mapping)"
   ]
  },
  {
   "cell_type": "code",
   "execution_count": 36,
   "id": "5bdb91e9",
   "metadata": {
    "scrolled": true
   },
   "outputs": [
    {
     "data": {
      "text/html": [
       "<div>\n",
       "<style scoped>\n",
       "    .dataframe tbody tr th:only-of-type {\n",
       "        vertical-align: middle;\n",
       "    }\n",
       "\n",
       "    .dataframe tbody tr th {\n",
       "        vertical-align: top;\n",
       "    }\n",
       "\n",
       "    .dataframe thead th {\n",
       "        text-align: right;\n",
       "    }\n",
       "</style>\n",
       "<table border=\"1\" class=\"dataframe\">\n",
       "  <thead>\n",
       "    <tr style=\"text-align: right;\">\n",
       "      <th></th>\n",
       "      <th>UniqueCarrier</th>\n",
       "      <th>FlightNum</th>\n",
       "      <th>TailNum</th>\n",
       "      <th>Origin</th>\n",
       "      <th>Dest</th>\n",
       "      <th>CancellationCode</th>\n",
       "    </tr>\n",
       "  </thead>\n",
       "  <tbody>\n",
       "    <tr>\n",
       "      <th>0</th>\n",
       "      <td>0.195087</td>\n",
       "      <td>0.000373</td>\n",
       "      <td>0.000332</td>\n",
       "      <td>0.011429</td>\n",
       "      <td>0.011712</td>\n",
       "      <td>1.0</td>\n",
       "    </tr>\n",
       "    <tr>\n",
       "      <th>1</th>\n",
       "      <td>0.195087</td>\n",
       "      <td>0.000083</td>\n",
       "      <td>0.000334</td>\n",
       "      <td>0.011429</td>\n",
       "      <td>0.011712</td>\n",
       "      <td>1.0</td>\n",
       "    </tr>\n",
       "    <tr>\n",
       "      <th>2</th>\n",
       "      <td>0.195087</td>\n",
       "      <td>0.000571</td>\n",
       "      <td>0.000311</td>\n",
       "      <td>0.005016</td>\n",
       "      <td>0.015323</td>\n",
       "      <td>1.0</td>\n",
       "    </tr>\n",
       "    <tr>\n",
       "      <th>3</th>\n",
       "      <td>0.195087</td>\n",
       "      <td>0.000200</td>\n",
       "      <td>0.000365</td>\n",
       "      <td>0.005016</td>\n",
       "      <td>0.015323</td>\n",
       "      <td>1.0</td>\n",
       "    </tr>\n",
       "    <tr>\n",
       "      <th>4</th>\n",
       "      <td>0.195087</td>\n",
       "      <td>0.000639</td>\n",
       "      <td>0.000334</td>\n",
       "      <td>0.005016</td>\n",
       "      <td>0.004954</td>\n",
       "      <td>1.0</td>\n",
       "    </tr>\n",
       "    <tr>\n",
       "      <th>...</th>\n",
       "      <td>...</td>\n",
       "      <td>...</td>\n",
       "      <td>...</td>\n",
       "      <td>...</td>\n",
       "      <td>...</td>\n",
       "      <td>...</td>\n",
       "    </tr>\n",
       "    <tr>\n",
       "      <th>1928366</th>\n",
       "      <td>0.058976</td>\n",
       "      <td>0.000331</td>\n",
       "      <td>0.000230</td>\n",
       "      <td>0.016746</td>\n",
       "      <td>0.055249</td>\n",
       "      <td>1.0</td>\n",
       "    </tr>\n",
       "    <tr>\n",
       "      <th>1928367</th>\n",
       "      <td>0.058976</td>\n",
       "      <td>0.000212</td>\n",
       "      <td>0.000149</td>\n",
       "      <td>0.002468</td>\n",
       "      <td>0.055249</td>\n",
       "      <td>1.0</td>\n",
       "    </tr>\n",
       "    <tr>\n",
       "      <th>1928368</th>\n",
       "      <td>0.058976</td>\n",
       "      <td>0.000212</td>\n",
       "      <td>0.000193</td>\n",
       "      <td>0.068043</td>\n",
       "      <td>0.022625</td>\n",
       "      <td>1.0</td>\n",
       "    </tr>\n",
       "    <tr>\n",
       "      <th>1928369</th>\n",
       "      <td>0.058976</td>\n",
       "      <td>0.000279</td>\n",
       "      <td>0.000155</td>\n",
       "      <td>0.011429</td>\n",
       "      <td>0.055249</td>\n",
       "      <td>1.0</td>\n",
       "    </tr>\n",
       "    <tr>\n",
       "      <th>1928370</th>\n",
       "      <td>0.058976</td>\n",
       "      <td>0.000135</td>\n",
       "      <td>0.000220</td>\n",
       "      <td>0.005631</td>\n",
       "      <td>0.055249</td>\n",
       "      <td>1.0</td>\n",
       "    </tr>\n",
       "  </tbody>\n",
       "</table>\n",
       "<p>1928371 rows × 6 columns</p>\n",
       "</div>"
      ],
      "text/plain": [
       "         UniqueCarrier  FlightNum   TailNum    Origin      Dest  \\\n",
       "0             0.195087   0.000373  0.000332  0.011429  0.011712   \n",
       "1             0.195087   0.000083  0.000334  0.011429  0.011712   \n",
       "2             0.195087   0.000571  0.000311  0.005016  0.015323   \n",
       "3             0.195087   0.000200  0.000365  0.005016  0.015323   \n",
       "4             0.195087   0.000639  0.000334  0.005016  0.004954   \n",
       "...                ...        ...       ...       ...       ...   \n",
       "1928366       0.058976   0.000331  0.000230  0.016746  0.055249   \n",
       "1928367       0.058976   0.000212  0.000149  0.002468  0.055249   \n",
       "1928368       0.058976   0.000212  0.000193  0.068043  0.022625   \n",
       "1928369       0.058976   0.000279  0.000155  0.011429  0.055249   \n",
       "1928370       0.058976   0.000135  0.000220  0.005631  0.055249   \n",
       "\n",
       "         CancellationCode  \n",
       "0                     1.0  \n",
       "1                     1.0  \n",
       "2                     1.0  \n",
       "3                     1.0  \n",
       "4                     1.0  \n",
       "...                   ...  \n",
       "1928366               1.0  \n",
       "1928367               1.0  \n",
       "1928368               1.0  \n",
       "1928369               1.0  \n",
       "1928370               1.0  \n",
       "\n",
       "[1928371 rows x 6 columns]"
      ]
     },
     "execution_count": 36,
     "metadata": {},
     "output_type": "execute_result"
    }
   ],
   "source": [
    "delayed_flights[nominal]"
   ]
  },
  {
   "cell_type": "code",
   "execution_count": 37,
   "id": "fb63c891",
   "metadata": {
    "scrolled": true
   },
   "outputs": [
    {
     "data": {
      "text/html": [
       "<div>\n",
       "<style scoped>\n",
       "    .dataframe tbody tr th:only-of-type {\n",
       "        vertical-align: middle;\n",
       "    }\n",
       "\n",
       "    .dataframe tbody tr th {\n",
       "        vertical-align: top;\n",
       "    }\n",
       "\n",
       "    .dataframe thead th {\n",
       "        text-align: right;\n",
       "    }\n",
       "</style>\n",
       "<table border=\"1\" class=\"dataframe\">\n",
       "  <thead>\n",
       "    <tr style=\"text-align: right;\">\n",
       "      <th></th>\n",
       "      <th>ActualElapsedTime</th>\n",
       "      <th>CRSElapsedTime</th>\n",
       "      <th>AirTime</th>\n",
       "      <th>ArrDelay</th>\n",
       "      <th>DepDelay</th>\n",
       "      <th>Distance</th>\n",
       "      <th>TaxiIn</th>\n",
       "      <th>TaxiOut</th>\n",
       "      <th>CarrierDelay</th>\n",
       "      <th>WeatherDelay</th>\n",
       "      <th>NASDelay</th>\n",
       "      <th>SecurityDelay</th>\n",
       "      <th>LateAircraftDelay</th>\n",
       "    </tr>\n",
       "  </thead>\n",
       "  <tbody>\n",
       "    <tr>\n",
       "      <th>0</th>\n",
       "      <td>0.176502</td>\n",
       "      <td>0.477836</td>\n",
       "      <td>0.413230</td>\n",
       "      <td>-1.971519</td>\n",
       "      <td>-1.247490</td>\n",
       "      <td>0.429530</td>\n",
       "      <td>-0.655909</td>\n",
       "      <td>-1.158817</td>\n",
       "      <td>-0.643736</td>\n",
       "      <td>-0.217514</td>\n",
       "      <td>-0.617016</td>\n",
       "      <td>-0.052188</td>\n",
       "      <td>-0.699704</td>\n",
       "    </tr>\n",
       "    <tr>\n",
       "      <th>1</th>\n",
       "      <td>0.176502</td>\n",
       "      <td>0.408951</td>\n",
       "      <td>0.369975</td>\n",
       "      <td>-1.507232</td>\n",
       "      <td>-0.344573</td>\n",
       "      <td>0.429530</td>\n",
       "      <td>-0.251732</td>\n",
       "      <td>-0.757698</td>\n",
       "      <td>-0.643736</td>\n",
       "      <td>-0.217514</td>\n",
       "      <td>-0.617016</td>\n",
       "      <td>-0.052188</td>\n",
       "      <td>-0.699704</td>\n",
       "    </tr>\n",
       "    <tr>\n",
       "      <th>2</th>\n",
       "      <td>-0.391238</td>\n",
       "      <td>-0.560111</td>\n",
       "      <td>-0.284821</td>\n",
       "      <td>-0.203814</td>\n",
       "      <td>-1.247490</td>\n",
       "      <td>-0.167982</td>\n",
       "      <td>-1.176984</td>\n",
       "      <td>0.196150</td>\n",
       "      <td>-0.643736</td>\n",
       "      <td>-0.217514</td>\n",
       "      <td>-0.617016</td>\n",
       "      <td>-0.052188</td>\n",
       "      <td>-0.699704</td>\n",
       "    </tr>\n",
       "    <tr>\n",
       "      <th>3</th>\n",
       "      <td>-0.518605</td>\n",
       "      <td>-0.560111</td>\n",
       "      <td>-0.263242</td>\n",
       "      <td>0.390523</td>\n",
       "      <td>0.262858</td>\n",
       "      <td>-0.167982</td>\n",
       "      <td>-1.176984</td>\n",
       "      <td>-0.757698</td>\n",
       "      <td>-0.198431</td>\n",
       "      <td>-0.217514</td>\n",
       "      <td>-0.617016</td>\n",
       "      <td>-0.052188</td>\n",
       "      <td>1.309586</td>\n",
       "    </tr>\n",
       "    <tr>\n",
       "      <th>4</th>\n",
       "      <td>-0.291039</td>\n",
       "      <td>-0.062047</td>\n",
       "      <td>-0.061675</td>\n",
       "      <td>-0.365351</td>\n",
       "      <td>-0.058106</td>\n",
       "      <td>0.214145</td>\n",
       "      <td>-0.655909</td>\n",
       "      <td>-0.757698</td>\n",
       "      <td>-0.643736</td>\n",
       "      <td>-0.217514</td>\n",
       "      <td>-0.617016</td>\n",
       "      <td>-0.052188</td>\n",
       "      <td>-0.699704</td>\n",
       "    </tr>\n",
       "    <tr>\n",
       "      <th>...</th>\n",
       "      <td>...</td>\n",
       "      <td>...</td>\n",
       "      <td>...</td>\n",
       "      <td>...</td>\n",
       "      <td>...</td>\n",
       "      <td>...</td>\n",
       "      <td>...</td>\n",
       "      <td>...</td>\n",
       "      <td>...</td>\n",
       "      <td>...</td>\n",
       "      <td>...</td>\n",
       "      <td>...</td>\n",
       "      <td>...</td>\n",
       "    </tr>\n",
       "    <tr>\n",
       "      <th>1928366</th>\n",
       "      <td>0.449638</td>\n",
       "      <td>0.504749</td>\n",
       "      <td>0.469194</td>\n",
       "      <td>0.184562</td>\n",
       "      <td>0.132208</td>\n",
       "      <td>0.577309</td>\n",
       "      <td>0.812917</td>\n",
       "      <td>0.298897</td>\n",
       "      <td>0.062056</td>\n",
       "      <td>-0.217514</td>\n",
       "      <td>-0.617016</td>\n",
       "      <td>-0.052188</td>\n",
       "      <td>1.092354</td>\n",
       "    </tr>\n",
       "    <tr>\n",
       "      <th>1928367</th>\n",
       "      <td>0.161023</td>\n",
       "      <td>-0.170924</td>\n",
       "      <td>-0.241941</td>\n",
       "      <td>0.920439</td>\n",
       "      <td>0.802199</td>\n",
       "      <td>-0.258096</td>\n",
       "      <td>1.738168</td>\n",
       "      <td>1.442139</td>\n",
       "      <td>-0.643736</td>\n",
       "      <td>5.116984</td>\n",
       "      <td>1.397736</td>\n",
       "      <td>-0.052188</td>\n",
       "      <td>-0.699704</td>\n",
       "    </tr>\n",
       "    <tr>\n",
       "      <th>1928368</th>\n",
       "      <td>0.641390</td>\n",
       "      <td>0.380730</td>\n",
       "      <td>0.496481</td>\n",
       "      <td>1.106403</td>\n",
       "      <td>1.156034</td>\n",
       "      <td>0.216061</td>\n",
       "      <td>0.599578</td>\n",
       "      <td>1.333162</td>\n",
       "      <td>-0.643736</td>\n",
       "      <td>-0.217514</td>\n",
       "      <td>1.435423</td>\n",
       "      <td>-0.052188</td>\n",
       "      <td>1.833521</td>\n",
       "    </tr>\n",
       "    <tr>\n",
       "      <th>1928369</th>\n",
       "      <td>-0.034856</td>\n",
       "      <td>-0.027013</td>\n",
       "      <td>-0.024155</td>\n",
       "      <td>-0.499765</td>\n",
       "      <td>-0.915076</td>\n",
       "      <td>-0.122655</td>\n",
       "      <td>1.478972</td>\n",
       "      <td>-0.286077</td>\n",
       "      <td>-0.643736</td>\n",
       "      <td>-0.217514</td>\n",
       "      <td>-0.617016</td>\n",
       "      <td>-0.052188</td>\n",
       "      <td>-0.699704</td>\n",
       "    </tr>\n",
       "    <tr>\n",
       "      <th>1928370</th>\n",
       "      <td>0.097866</td>\n",
       "      <td>0.263754</td>\n",
       "      <td>0.232964</td>\n",
       "      <td>-1.971519</td>\n",
       "      <td>-1.386875</td>\n",
       "      <td>0.529865</td>\n",
       "      <td>0.599578</td>\n",
       "      <td>-0.586370</td>\n",
       "      <td>-0.643736</td>\n",
       "      <td>-0.217514</td>\n",
       "      <td>-0.617016</td>\n",
       "      <td>-0.052188</td>\n",
       "      <td>-0.699704</td>\n",
       "    </tr>\n",
       "  </tbody>\n",
       "</table>\n",
       "<p>1928371 rows × 13 columns</p>\n",
       "</div>"
      ],
      "text/plain": [
       "         ActualElapsedTime  CRSElapsedTime   AirTime  ArrDelay  DepDelay  \\\n",
       "0                 0.176502        0.477836  0.413230 -1.971519 -1.247490   \n",
       "1                 0.176502        0.408951  0.369975 -1.507232 -0.344573   \n",
       "2                -0.391238       -0.560111 -0.284821 -0.203814 -1.247490   \n",
       "3                -0.518605       -0.560111 -0.263242  0.390523  0.262858   \n",
       "4                -0.291039       -0.062047 -0.061675 -0.365351 -0.058106   \n",
       "...                    ...             ...       ...       ...       ...   \n",
       "1928366           0.449638        0.504749  0.469194  0.184562  0.132208   \n",
       "1928367           0.161023       -0.170924 -0.241941  0.920439  0.802199   \n",
       "1928368           0.641390        0.380730  0.496481  1.106403  1.156034   \n",
       "1928369          -0.034856       -0.027013 -0.024155 -0.499765 -0.915076   \n",
       "1928370           0.097866        0.263754  0.232964 -1.971519 -1.386875   \n",
       "\n",
       "         Distance    TaxiIn   TaxiOut  CarrierDelay  WeatherDelay  NASDelay  \\\n",
       "0        0.429530 -0.655909 -1.158817     -0.643736     -0.217514 -0.617016   \n",
       "1        0.429530 -0.251732 -0.757698     -0.643736     -0.217514 -0.617016   \n",
       "2       -0.167982 -1.176984  0.196150     -0.643736     -0.217514 -0.617016   \n",
       "3       -0.167982 -1.176984 -0.757698     -0.198431     -0.217514 -0.617016   \n",
       "4        0.214145 -0.655909 -0.757698     -0.643736     -0.217514 -0.617016   \n",
       "...           ...       ...       ...           ...           ...       ...   \n",
       "1928366  0.577309  0.812917  0.298897      0.062056     -0.217514 -0.617016   \n",
       "1928367 -0.258096  1.738168  1.442139     -0.643736      5.116984  1.397736   \n",
       "1928368  0.216061  0.599578  1.333162     -0.643736     -0.217514  1.435423   \n",
       "1928369 -0.122655  1.478972 -0.286077     -0.643736     -0.217514 -0.617016   \n",
       "1928370  0.529865  0.599578 -0.586370     -0.643736     -0.217514 -0.617016   \n",
       "\n",
       "         SecurityDelay  LateAircraftDelay  \n",
       "0            -0.052188          -0.699704  \n",
       "1            -0.052188          -0.699704  \n",
       "2            -0.052188          -0.699704  \n",
       "3            -0.052188           1.309586  \n",
       "4            -0.052188          -0.699704  \n",
       "...                ...                ...  \n",
       "1928366      -0.052188           1.092354  \n",
       "1928367      -0.052188          -0.699704  \n",
       "1928368      -0.052188           1.833521  \n",
       "1928369      -0.052188          -0.699704  \n",
       "1928370      -0.052188          -0.699704  \n",
       "\n",
       "[1928371 rows x 13 columns]"
      ]
     },
     "execution_count": 37,
     "metadata": {},
     "output_type": "execute_result"
    }
   ],
   "source": [
    "scaler = StandardScaler()\n",
    "delayed_flights[numerical] = scaler.fit_transform(delayed_flights[numerical])\n",
    "delayed_flights[numerical]"
   ]
  },
  {
   "cell_type": "code",
   "execution_count": 38,
   "id": "24905e1b",
   "metadata": {
    "scrolled": false
   },
   "outputs": [
    {
     "data": {
      "text/plain": [
       "Index(['UniqueCarrier', 'FlightNum', 'TailNum', 'ActualElapsedTime',\n",
       "       'CRSElapsedTime', 'AirTime', 'ArrDelay', 'DepDelay', 'Origin', 'Dest',\n",
       "       'Distance', 'TaxiIn', 'TaxiOut', 'CancellationCode', 'CarrierDelay',\n",
       "       'WeatherDelay', 'NASDelay', 'SecurityDelay', 'LateAircraftDelay',\n",
       "       'mnth_sin', 'mnth_cos', 'day_M_sin', 'day_M_cos', 'day_W_sin',\n",
       "       'day_W_cos', 'DepTime_sin', 'DepTime_cos', 'CRSDepTime_sin',\n",
       "       'CRSDepTime_cos', 'ArrTime_sin', 'ArrTime_cos', 'CRSArrTime_sin',\n",
       "       'CRSArrTime_cos'],\n",
       "      dtype='object')"
      ]
     },
     "execution_count": 38,
     "metadata": {},
     "output_type": "execute_result"
    }
   ],
   "source": [
    "delayed_flights.columns"
   ]
  },
  {
   "cell_type": "markdown",
   "id": "efc666fc",
   "metadata": {},
   "source": [
    "---"
   ]
  },
  {
   "cell_type": "markdown",
   "id": "0a770228",
   "metadata": {},
   "source": [
    "Realitzarem els següents exercicis alhora, ja que és difícil segmentar el treball i fer-los un a un\n",
    "\n",
    "- Exercici 1\n",
    "\n",
    "Crea almenys tres models de regressió diferents per intentar predir el millor possible l’endarreriment dels vols (ArrDelay) de DelayedFlights.csv."
   ]
  },
  {
   "cell_type": "markdown",
   "id": "372a8cd2",
   "metadata": {},
   "source": [
    "- Exercici 2\n",
    "\n",
    "Compara’ls en base al MSE i al R2 ."
   ]
  },
  {
   "cell_type": "markdown",
   "id": "5396418f",
   "metadata": {},
   "source": [
    "- Exercici 6\n",
    "\n",
    "No utilitzis la variable DepDelay a l’hora de fer prediccions"
   ]
  },
  {
   "cell_type": "code",
   "execution_count": 39,
   "id": "76ced31f",
   "metadata": {
    "scrolled": false
   },
   "outputs": [
    {
     "data": {
      "image/png": "[encoded data removed]",
      "text/plain": [
       "<Figure size 2160x2160 with 2 Axes>"
      ]
     },
     "metadata": {
      "needs_background": "light"
     },
     "output_type": "display_data"
    }
   ],
   "source": [
    "matrix = np.triu(delayed_flights.corr())\n",
    "plt.figure(figsize=(30,30))\n",
    "fig = sns.heatmap(delayed_flights.corr(), annot=True, cmap='Reds', mask=matrix)"
   ]
  },
  {
   "cell_type": "markdown",
   "id": "47fd9ee6",
   "metadata": {},
   "source": [
    "Observant la matriu de correlacions, les variables que més ens interessen a la hora d'analitzar ArrDelay son 'CarrierDelay', 'WeatherDelay', 'NASDelay', 'LateAircraftDelay'. Aquestes variables, com es podia veure abans, segueixen mantenint un skew molt gran tot i la transformació logarítmica. Tot i així, realitzarem una regressió múltiple per tenir un baseline a partir del qual provar amb altres dos models que puguin funcionar millor davant outliers. Entre aquestes variables, a més, no sembla haver colinealitat."
   ]
  },
  {
   "cell_type": "code",
   "execution_count": 40,
   "id": "0c08e5cc",
   "metadata": {},
   "outputs": [],
   "source": [
    "#sample_df = delayed_flights.sample(frac=0.2)"
   ]
  },
  {
   "cell_type": "code",
   "execution_count": 41,
   "id": "1d665b0b",
   "metadata": {
    "scrolled": false
   },
   "outputs": [],
   "source": [
    "#sample_df.shape"
   ]
  },
  {
   "cell_type": "markdown",
   "id": "09e6ff26",
   "metadata": {},
   "source": [
    "Regresión lineal múltiple"
   ]
  },
  {
   "cell_type": "code",
   "execution_count": 42,
   "id": "b2d56e82",
   "metadata": {},
   "outputs": [],
   "source": [
    "X = delayed_flights[['CarrierDelay', 'WeatherDelay', 'NASDelay', 'LateAircraftDelay']]\n",
    "y = delayed_flights['ArrDelay']\n",
    "\n",
    "X_train, X_test, y_train, y_test = train_test_split(X, y.values.reshape(-1,1), train_size = 0.8,\n",
    "                                        random_state = 1234, shuffle = True)"
   ]
  },
  {
   "cell_type": "code",
   "execution_count": 43,
   "id": "114872bb",
   "metadata": {
    "scrolled": true
   },
   "outputs": [
    {
     "name": "stdout",
     "output_type": "stream",
     "text": [
      "                            OLS Regression Results                            \n",
      "==============================================================================\n",
      "Dep. Variable:                      y   R-squared:                       0.705\n",
      "Model:                            OLS   Adj. R-squared:                  0.705\n",
      "Method:                 Least Squares   F-statistic:                 9.236e+05\n",
      "Date:                Tue, 07 Sep 2021   Prob (F-statistic):               0.00\n",
      "Time:                        17:43:40   Log-Likelihood:            -1.2464e+06\n",
      "No. Observations:             1542696   AIC:                         2.493e+06\n",
      "Df Residuals:                 1542691   BIC:                         2.493e+06\n",
      "Df Model:                           4                                         \n",
      "Covariance Type:            nonrobust                                         \n",
      "=====================================================================================\n",
      "                        coef    std err          t      P>|t|      [0.025      0.975]\n",
      "-------------------------------------------------------------------------------------\n",
      "const             -1.002e-05      0.000     -0.023      0.982      -0.001       0.001\n",
      "CarrierDelay          0.4993      0.000   1126.027      0.000       0.498       0.500\n",
      "WeatherDelay          0.2230      0.000    503.197      0.000       0.222       0.224\n",
      "NASDelay              0.3975      0.000    902.182      0.000       0.397       0.398\n",
      "LateAircraftDelay     0.5330      0.000   1207.566      0.000       0.532       0.534\n",
      "==============================================================================\n",
      "Omnibus:                    84693.327   Durbin-Watson:                   2.000\n",
      "Prob(Omnibus):                  0.000   Jarque-Bera (JB):            52891.025\n",
      "Skew:                          -0.325   Prob(JB):                         0.00\n",
      "Kurtosis:                       2.367   Cond. No.                         1.24\n",
      "==============================================================================\n",
      "\n",
      "Notes:\n",
      "[1] Standard Errors assume that the covariance matrix of the errors is correctly specified.\n"
     ]
    }
   ],
   "source": [
    "X_train = sm.add_constant(X_train, prepend=True)\n",
    "lmr = sm.OLS(endog=y_train, exog=X_train)\n",
    "lmr = lmr.fit()\n",
    "print(lmr.summary())"
   ]
  },
  {
   "cell_type": "markdown",
   "id": "d4423493",
   "metadata": {},
   "source": [
    "El modelo con todas las variables introducidas como predictores tiene un R2 i R2adjusted notable (0.705), es capaz de explicar el 70.5% de la variabilidad observada en los retrasos. El p-value del modelo es significativo por lo que se puede aceptar que el modelo es mejor que lo esperado por azar. \n",
    "\n",
    "Función resultante del modelo de regressión: y = -0.00001002 + 0.50xi1 + 0.22xi2 + 0.40xi3 + 0.53xi4"
   ]
  },
  {
   "cell_type": "code",
   "execution_count": 59,
   "id": "47b25fd0",
   "metadata": {},
   "outputs": [
    {
     "name": "stdout",
     "output_type": "stream",
     "text": [
      "MSE: 0.2947843825643521\n"
     ]
    }
   ],
   "source": [
    "X_test = sm.add_constant(X_test, prepend=True)\n",
    "lmr_pred = lmr.predict(X_test)\n",
    "MSE_lmr = mean_squared_error(y_test, lmr_pred)\n",
    "print('MSE:', MSE_lmr)"
   ]
  },
  {
   "cell_type": "markdown",
   "id": "f4f6fbdb",
   "metadata": {},
   "source": [
    "Random Forest"
   ]
  },
  {
   "cell_type": "code",
   "execution_count": 61,
   "id": "2f181e27",
   "metadata": {},
   "outputs": [],
   "source": [
    "X_train, X_test, y_train, y_test = train_test_split(X.values, y.values, train_size = 0.8,\n",
    "                                        random_state = 1234, shuffle = True)"
   ]
  },
  {
   "cell_type": "code",
   "execution_count": 62,
   "id": "47f3f4bd",
   "metadata": {
    "scrolled": true
   },
   "outputs": [
    {
     "data": {
      "text/plain": [
       "RandomForestRegressor(random_state=42)"
      ]
     },
     "execution_count": 62,
     "metadata": {},
     "output_type": "execute_result"
    }
   ],
   "source": [
    "rf = RandomForestRegressor(n_estimators = 100, random_state = 42)\n",
    "rf.fit(X_train, y_train)"
   ]
  },
  {
   "cell_type": "code",
   "execution_count": 64,
   "id": "275a8493",
   "metadata": {},
   "outputs": [
    {
     "data": {
      "text/plain": [
       "0.8284615703469721"
      ]
     },
     "execution_count": 64,
     "metadata": {},
     "output_type": "execute_result"
    }
   ],
   "source": [
    "rf_pred = rf.predict(X_test)\n",
    "r2_score(y_test, rf_pred)"
   ]
  },
  {
   "cell_type": "code",
   "execution_count": 63,
   "id": "8894652f",
   "metadata": {},
   "outputs": [
    {
     "name": "stdout",
     "output_type": "stream",
     "text": [
      "MSE: 0.17140641619506172\n"
     ]
    }
   ],
   "source": [
    "MSE_rf = mean_squared_error(y_test, rf_pred)\n",
    "print('MSE:', MSE_rf)"
   ]
  },
  {
   "cell_type": "markdown",
   "id": "083eae85",
   "metadata": {},
   "source": [
    "El R2 del Random Forest es superior al de la regresión lineal y consigue explicar el 83% de variabilidad. Asimismo, el MSE es menor.\n",
    "\n",
    "Como podemos ver, el Random Forest logra superar los resultados de la regresión lineal, especialmente debido a su fortaleza ante la presencia de outliers. "
   ]
  },
  {
   "cell_type": "markdown",
   "id": "a421aafb",
   "metadata": {},
   "source": [
    "Xarxes Neuronals"
   ]
  },
  {
   "cell_type": "code",
   "execution_count": 68,
   "id": "49bb1608",
   "metadata": {},
   "outputs": [],
   "source": [
    "X_train, X_test, y_train, y_test = train_test_split(X, y.values, train_size = 0.8,\n",
    "                                        random_state = 1234, shuffle = True)"
   ]
  },
  {
   "cell_type": "code",
   "execution_count": 69,
   "id": "5ef237c8",
   "metadata": {},
   "outputs": [
    {
     "data": {
      "text/plain": [
       "0.8283635129437144"
      ]
     },
     "execution_count": 69,
     "metadata": {},
     "output_type": "execute_result"
    }
   ],
   "source": [
    "mlp = MLPRegressor(random_state=1, max_iter=500).fit(X_train, y_train)\n",
    "mlp_pred = mlp.predict(X_test)\n",
    "r2_score(y_test, mlp_pred)"
   ]
  },
  {
   "cell_type": "code",
   "execution_count": 70,
   "id": "ace7bc0a",
   "metadata": {},
   "outputs": [
    {
     "name": "stdout",
     "output_type": "stream",
     "text": [
      "MSE: 0.17150439813478102\n"
     ]
    }
   ],
   "source": [
    "MSE_rf = mean_squared_error(y_test, mlp_pred)\n",
    "print('MSE:', MSE_rf)"
   ]
  },
  {
   "cell_type": "markdown",
   "id": "7f3eef42",
   "metadata": {},
   "source": [
    "El R2 del modelo de redes neuronales es casi idéntico al del Random Forest (inferior por muy poco) y consigue explicar también el 83% de la variabilidad. Pasa lo mismo con el MSE.\n",
    "\n",
    "Si tuvieramos que elegir, el Random Forest es el que presenta un mejor rendimiento."
   ]
  },
  {
   "cell_type": "markdown",
   "id": "6fa7444c",
   "metadata": {},
   "source": [
    "---"
   ]
  },
  {
   "cell_type": "markdown",
   "id": "905e80e7",
   "metadata": {},
   "source": [
    "- Exercici 3\n",
    "\n",
    "Entrena’ls utilitzant els diferents paràmetres que admeten."
   ]
  },
  {
   "cell_type": "markdown",
   "id": "354bb750",
   "metadata": {},
   "source": [
    "LMR no hay parametros"
   ]
  },
  {
   "cell_type": "markdown",
   "id": "d2d57f52",
   "metadata": {},
   "source": [
    "- GridSearch"
   ]
  },
  {
   "cell_type": "code",
   "execution_count": null,
   "id": "2e5f951a",
   "metadata": {},
   "outputs": [],
   "source": []
  },
  {
   "cell_type": "code",
   "execution_count": null,
   "id": "49490238",
   "metadata": {},
   "outputs": [],
   "source": []
  }
 ],
 "metadata": {
  "kernelspec": {
   "display_name": "Python 3",
   "language": "python",
   "name": "python3"
  },
  "language_info": {
   "codemirror_mode": {
    "name": "ipython",
    "version": 3
   },
   "file_extension": ".py",
   "mimetype": "text/x-python",
   "name": "python",
   "nbconvert_exporter": "python",
   "pygments_lexer": "ipython3",
   "version": "3.8.8"
  }
 },
 "nbformat": 4,
 "nbformat_minor": 5
}
